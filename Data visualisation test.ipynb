{
 "cells": [
  {
   "cell_type": "markdown",
   "id": "naughty-northern",
   "metadata": {},
   "source": [
    "# This notebook is to help you visualize the data "
   ]
  },
  {
   "cell_type": "code",
   "execution_count": null,
   "id": "infectious-worcester",
   "metadata": {},
   "outputs": [],
   "source": [
    "from Visualisation_data import *\n",
    "%matplotlib notebook"
   ]
  },
  {
   "cell_type": "code",
   "execution_count": null,
   "id": "million-stream",
   "metadata": {},
   "outputs": [],
   "source": [
    "# define the path of the files\n",
    "path=\"\""
   ]
  },
  {
   "cell_type": "code",
   "execution_count": null,
   "id": "afraid-hostel",
   "metadata": {},
   "outputs": [],
   "source": [
    "acc,gyro=read_data(path)"
   ]
  },
  {
   "cell_type": "code",
   "execution_count": null,
   "id": "suitable-arbitration",
   "metadata": {},
   "outputs": [],
   "source": [
    "plot_data(acc)"
   ]
  },
  {
   "cell_type": "code",
   "execution_count": null,
   "id": "wooden-visiting",
   "metadata": {},
   "outputs": [],
   "source": [
    "plot_data(gyro)"
   ]
  },
  {
   "cell_type": "code",
   "execution_count": null,
   "id": "universal-harvard",
   "metadata": {},
   "outputs": [],
   "source": [
    "cut_off=12\n",
    "order=3\n",
    "acc_filtered=filter_data(acc,cut_off,order)\n",
    "gyro_filtered=filter_data(gyro,cut_off,order)"
   ]
  },
  {
   "cell_type": "code",
   "execution_count": null,
   "id": "later-baptist",
   "metadata": {},
   "outputs": [],
   "source": [
    "plot_data(acc_filtered)"
   ]
  },
  {
   "cell_type": "code",
   "execution_count": null,
   "id": "attached-surgeon",
   "metadata": {},
   "outputs": [],
   "source": [
    "plot_data(gyro_filtered)"
   ]
  },
  {
   "cell_type": "code",
   "execution_count": null,
   "id": "speaking-petersburg",
   "metadata": {},
   "outputs": [],
   "source": [
    "acc_mag=calculate_norm(acc_filtered)\n",
    "gyro_mag=calculate_norm(gyro_filtered)"
   ]
  },
  {
   "cell_type": "code",
   "execution_count": null,
   "id": "active-bracket",
   "metadata": {},
   "outputs": [],
   "source": [
    "plot_norm(acc_mag,signal_type='acc')"
   ]
  },
  {
   "cell_type": "code",
   "execution_count": null,
   "id": "imposed-character",
   "metadata": {},
   "outputs": [],
   "source": [
    "plot_norm(gyro_mag,signal_type='acc')"
   ]
  }
 ],
 "metadata": {
  "kernelspec": {
   "display_name": "Python 3 (ipykernel)",
   "language": "python",
   "name": "python3"
  },
  "language_info": {
   "codemirror_mode": {
    "name": "ipython",
    "version": 3
   },
   "file_extension": ".py",
   "mimetype": "text/x-python",
   "name": "python",
   "nbconvert_exporter": "python",
   "pygments_lexer": "ipython3",
   "version": "3.8.5"
  },
  "varInspector": {
   "cols": {
    "lenName": 16,
    "lenType": 16,
    "lenVar": 40
   },
   "kernels_config": {
    "python": {
     "delete_cmd_postfix": "",
     "delete_cmd_prefix": "del ",
     "library": "var_list.py",
     "varRefreshCmd": "print(var_dic_list())"
    },
    "r": {
     "delete_cmd_postfix": ") ",
     "delete_cmd_prefix": "rm(",
     "library": "var_list.r",
     "varRefreshCmd": "cat(var_dic_list()) "
    }
   },
   "types_to_exclude": [
    "module",
    "function",
    "builtin_function_or_method",
    "instance",
    "_Feature"
   ],
   "window_display": false
  }
 },
 "nbformat": 4,
 "nbformat_minor": 5
}
